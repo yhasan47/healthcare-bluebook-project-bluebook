{
 "cells": [
  {
   "cell_type": "code",
   "execution_count": 1,
   "metadata": {},
   "outputs": [],
   "source": [
    "# import libraries\n",
    "import pandas as pd\n",
    "import matplotlib.pyplot as plt\n",
    "import seaborn as sns\n",
    "import numpy as np"
   ]
  },
  {
   "cell_type": "code",
   "execution_count": null,
   "metadata": {},
   "outputs": [],
   "source": [
    "# set up dataframes\n",
    "providers = pd.read_csv(‘../../oversized_files/Medicare_Provider_Util_Payment_PUF_CY2017.csv’) \n",
    "outpatient = pd.read_csv(‘../data/MUP_OHP_R19_P04_V10_D17_APC_Provider.csv’) \n",
    "classification = pd.read_csv(‘../data/508-Compliant-Version-of-2020_january_web_addendum_b.12312019.csv’) \n",
    "classification2 = pd.read_csv(‘../data/2020_january_web_addendum_b.12312019.csv’) \n",
    "cbsa = pd.read_csv(‘../data/ZIP_CBSA_032020.csv’) "
   ]
  }
 ],
 "metadata": {
  "kernelspec": {
   "display_name": "Python 3",
   "language": "python",
   "name": "python3"
  },
  "language_info": {
   "codemirror_mode": {
    "name": "ipython",
    "version": 3
   },
   "file_extension": ".py",
   "mimetype": "text/x-python",
   "name": "python",
   "nbconvert_exporter": "python",
   "pygments_lexer": "ipython3",
   "version": "3.7.4"
  }
 },
 "nbformat": 4,
 "nbformat_minor": 2
}
