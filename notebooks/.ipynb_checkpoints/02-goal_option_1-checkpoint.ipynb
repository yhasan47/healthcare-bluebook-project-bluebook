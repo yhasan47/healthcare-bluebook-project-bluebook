{
 "cells": [
  {
   "cell_type": "markdown",
   "metadata": {},
   "source": [
    "# Goals Option 1\n",
    "\n",
    "## How much are nearby Hospitals and ASCs paid for the same procedure?\n",
    "Filters for Physician/Other Supplier\n",
    "Entity Type = O\n",
    "Provider Type = Ambulatory Surgical Center\n",
    "CPT = 43249\n",
    "Filters for Hospital Outpatient\n",
    "APC = 5302\n",
    "Compare results within a CBSA\n",
    "\n",
    "# Stretch Goals\n",
    "\n",
    "## Extend to other HCPCS/APCs\n",
    "- Best place to start is to find an APC that is well-populated in the Hospital file\n",
    "- Next find a well-populated HCPCS from the APC in the Physician/Other Supplier File\n",
    "\n",
    "## Compare Doctor Utilization for a procedure\n",
    "- Filters for Physician/Other Supplier\n",
    "  - Entity Type = I\n",
    "  - Place of Service = O\n",
    "- HCPCS = 99213 (or any office visit – 99211-99215 / 99201-99205)\n",
    "- How many different patients does each specialty typically see in a year? How does that vary by CBSA?"
   ]
  },
  {
   "cell_type": "code",
   "execution_count": null,
   "metadata": {},
   "outputs": [],
   "source": []
  }
 ],
 "metadata": {
  "kernelspec": {
   "display_name": "Python 3",
   "language": "python",
   "name": "python3"
  },
  "language_info": {
   "codemirror_mode": {
    "name": "ipython",
    "version": 3
   },
   "file_extension": ".py",
   "mimetype": "text/x-python",
   "name": "python",
   "nbconvert_exporter": "python",
   "pygments_lexer": "ipython3",
   "version": "3.7.4"
  }
 },
 "nbformat": 4,
 "nbformat_minor": 2
}
